{
 "cells": [
  {
   "cell_type": "code",
   "execution_count": 10,
   "metadata": {},
   "outputs": [
    {
     "name": "stdout",
     "output_type": "stream",
     "text": [
      "Requirement already satisfied: pillow in /cita/d/homes/home-2/student15/.local/lib/python3.7/site-packages (7.1.2)\n",
      "\u001b[33mWARNING: You are using pip version 20.0.2; however, version 20.1 is available.\n",
      "You should consider upgrading via the '/opt/python/3.7.3/bin/python3.7 -m pip install --upgrade pip' command.\u001b[0m\n",
      "Note: you may need to restart the kernel to use updated packages.\n"
     ]
    }
   ],
   "source": [
    "pip install --user pillow"
   ]
  },
  {
   "cell_type": "code",
   "execution_count": 6,
   "metadata": {},
   "outputs": [],
   "source": [
    "from PIL import Image \n",
    "from numpy import complex, array \n",
    "import colorsys"
   ]
  },
  {
   "cell_type": "code",
   "execution_count": null,
   "metadata": {},
   "outputs": [],
   "source": [
    "# function for black/white convergence vs nonconvergence \n",
    "def mandelcount(x, y): \n",
    "    z0 = complex(x, y) \n",
    "    z = 0\n",
    "    for i in range(1, 1000): \n",
    "        if abs(z) > 2: \n",
    "            return (255,255,255)\n",
    "        z = z * z + z0 \n",
    "    return (0, 0, 0) "
   ]
  },
  {
   "cell_type": "code",
   "execution_count": 7,
   "metadata": {},
   "outputs": [],
   "source": [
    "# function definition for mandelbrot set\n",
    "def mandelcount(x, y): \n",
    "    z0 = complex(x, y) \n",
    "    z = 0\n",
    "    for i in range(1, 1000): \n",
    "        if abs(z) > 2: \n",
    "            return colour_pixel(i) \n",
    "        z = z * z + z0 \n",
    "    return (0, 0, 0) "
   ]
  },
  {
   "cell_type": "code",
   "execution_count": 8,
   "metadata": {},
   "outputs": [],
   "source": [
    "# function to asign coordinate pixel rbg colour value \n",
    "def colour_pixel(i): \n",
    "    color = 500* array(colorsys.hsv_to_rgb(i / 255.0, 1.0, 0.5)) \n",
    "    return tuple(color.astype(int)) "
   ]
  },
  {
   "cell_type": "code",
   "execution_count": 9,
   "metadata": {},
   "outputs": [],
   "source": [
    "n= 3000\n",
    "\n",
    "#fractal image of mandelbrought set\n",
    "\n",
    "fractal= Image.new('RGB', (n,int(n/ 2))) \n",
    "\n",
    "\n",
    "pixels= fractal.load() \n",
    "  \n",
    "for x in range(fractal.size[0]): \n",
    "   \n",
    "    for y in range(fractal.size[1]): \n",
    "        pixels[x, y] = mandelcount((x - (0.75 * n)) / (n/ 4), \n",
    "                                      (y - (n / 4)) / (n / 4)) \n",
    "\n",
    "# display the created fractal pattern\n",
    "fractal.show() "
   ]
  },
  {
   "cell_type": "code",
   "execution_count": null,
   "metadata": {},
   "outputs": [],
   "source": []
  }
 ],
 "metadata": {
  "kernelspec": {
   "display_name": "Python 3",
   "language": "python",
   "name": "python3"
  },
  "language_info": {
   "codemirror_mode": {
    "name": "ipython",
    "version": 3
   },
   "file_extension": ".py",
   "mimetype": "text/x-python",
   "name": "python",
   "nbconvert_exporter": "python",
   "pygments_lexer": "ipython3",
   "version": "3.7.3"
  }
 },
 "nbformat": 4,
 "nbformat_minor": 2
}
